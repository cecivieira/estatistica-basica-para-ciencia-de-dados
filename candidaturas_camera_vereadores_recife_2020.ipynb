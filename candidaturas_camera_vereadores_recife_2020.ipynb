{
 "cells": [
  {
   "cell_type": "markdown",
   "id": "2098a118-f0ab-4954-8ee6-27435a0742f1",
   "metadata": {},
   "source": [
    "# Conceitos básicos de estatística\n",
    "\n",
    "Esse notebook é composto por exercícios que te ajudarão a entender conceitos básicos de estatística. \n",
    "\n",
    "A estatística nos ajuda a responder perguntas que queremos fazer aos dados. Esse ano, 2022, celebramos 90 anos da conquista do voto feminino, ou seja, apenas em 1932 nós mulheres conquistamos com muita luta o direito ao voto, naquele momento apenas as mulheres casadas com autorização do marido, viúvas ou solteiras com renda própria podiam votar. O sufrágio universal veio dois anos depois, em 1934, onde todas nós pudemos votar, sermos votadas e eleitas para cargos políticos. Por essa razão, vamos aprender conceitos básicos de estatística usando os dados abertos do Tribunal Superior Eleitoral, especificamente os dados das candidaturas para a Câmara dos Vereadores de Recife em 2020. É a esse conjunto de dados que vamos realizar nossas perguntas e respondê-las usando os conceitos que aprenderemos ao longo desse vídeo aplicados com a biblioteca Pandas.\n",
    "\n",
    "Conteúdo: \n",
    "\n",
    "- Medidas de tendência central;\n",
    "- Medidas de dispersão;\n",
    "- Valores discrepantes (outliers); \n",
    "- Coeficientes de correlação.\n"
   ]
  },
  {
   "cell_type": "markdown",
   "id": "2cb2e479-bf5d-4652-b511-9536899da75e",
   "metadata": {},
   "source": [
    "Para iniciar, vamos importar as bibliotecas a serem utilizadas para análise dos dados:"
   ]
  },
  {
   "cell_type": "code",
   "execution_count": 1,
   "id": "d06bdedd-efab-43f1-8e37-060715948e84",
   "metadata": {},
   "outputs": [],
   "source": [
    "import pandas as pd\n",
    "import matplotlib.pyplot as plt"
   ]
  },
  {
   "cell_type": "markdown",
   "id": "0896fb1e-85f2-43d8-9c7e-cb88a69ad317",
   "metadata": {},
   "source": [
    "Importaremos o conjunto de dados:"
   ]
  },
  {
   "cell_type": "code",
   "execution_count": 2,
   "id": "7d389435-992e-4fe6-9225-7de6e1c9970e",
   "metadata": {},
   "outputs": [],
   "source": [
    "df_candidaturas = pd.read_csv('dados/consulta_cand_vereadoras_2020_PE_reduzida.csv')"
   ]
  },
  {
   "cell_type": "markdown",
   "id": "ed3630ad-41d8-4e1e-81a4-8c375518b0df",
   "metadata": {},
   "source": [
    "Exploraremos as primeiras informações:"
   ]
  },
  {
   "cell_type": "code",
   "execution_count": 3,
   "id": "9844456a-51d8-4f50-bda1-cc7e3e0f3090",
   "metadata": {},
   "outputs": [
    {
     "name": "stdout",
     "output_type": "stream",
     "text": [
      "<class 'pandas.core.frame.DataFrame'>\n",
      "RangeIndex: 896 entries, 0 to 895\n",
      "Data columns (total 26 columns):\n",
      " #   Column                    Non-Null Count  Dtype \n",
      "---  ------                    --------------  ----- \n",
      " 0   ANO_ELEICAO               896 non-null    int64 \n",
      " 1   CD_TIPO_ELEICAO           896 non-null    int64 \n",
      " 2   NM_TIPO_ELEICAO           896 non-null    object\n",
      " 3   TP_ABRANGENCIA            896 non-null    object\n",
      " 4   SG_UF                     896 non-null    object\n",
      " 5   SG_UE                     896 non-null    int64 \n",
      " 6   NM_UE                     896 non-null    object\n",
      " 7   CD_CARGO                  896 non-null    int64 \n",
      " 8   DS_CARGO                  896 non-null    object\n",
      " 9   CD_SITUACAO_CANDIDATURA   896 non-null    int64 \n",
      " 10  DS_SITUACAO_CANDIDATURA   896 non-null    object\n",
      " 11  CD_DETALHE_SITUACAO_CAND  896 non-null    int64 \n",
      " 12  DS_DETALHE_SITUACAO_CAND  896 non-null    object\n",
      " 13  TP_AGREMIACAO             896 non-null    object\n",
      " 14  NR_PARTIDO                896 non-null    int64 \n",
      " 15  SG_PARTIDO                896 non-null    object\n",
      " 16  NR_IDADE_DATA_POSSE       896 non-null    int64 \n",
      " 17  CD_GENERO                 896 non-null    int64 \n",
      " 18  DS_GENERO                 896 non-null    object\n",
      " 19  CD_GRAU_INSTRUCAO         896 non-null    int64 \n",
      " 20  DS_GRAU_INSTRUCAO         896 non-null    object\n",
      " 21  CD_ESTADO_CIVIL           896 non-null    int64 \n",
      " 22  DS_ESTADO_CIVIL           896 non-null    object\n",
      " 23  CD_COR_RACA               896 non-null    int64 \n",
      " 24  DS_COR_RACA               896 non-null    object\n",
      " 25  VR_DESPESA_MAX_CAMPANHA   896 non-null    int64 \n",
      "dtypes: int64(13), object(13)\n",
      "memory usage: 182.1+ KB\n"
     ]
    }
   ],
   "source": [
    "df_candidaturas.info()"
   ]
  },
  {
   "cell_type": "markdown",
   "id": "b7c8e52a-314b-4a57-b132-bafb4e4dffd6",
   "metadata": {},
   "source": [
    "Por padrão o Pandas apresenta até 20 colunas, como nosso dataframe tem mais colunas, retiraremos essa limitação"
   ]
  },
  {
   "cell_type": "code",
   "execution_count": 4,
   "id": "0e52f2f9-841b-4371-8854-dafe992deba4",
   "metadata": {},
   "outputs": [],
   "source": [
    "pd.options.display.max_columns = None"
   ]
  },
  {
   "cell_type": "markdown",
   "id": "90932354-dcda-4734-a3ce-bf379d50a038",
   "metadata": {},
   "source": [
    "Agora, leremos algumas amostras"
   ]
  },
  {
   "cell_type": "code",
   "execution_count": 5,
   "id": "a797c746-2fe1-43e3-9f58-7e742f8fd362",
   "metadata": {},
   "outputs": [
    {
     "data": {
      "text/html": [
       "<div>\n",
       "<style scoped>\n",
       "    .dataframe tbody tr th:only-of-type {\n",
       "        vertical-align: middle;\n",
       "    }\n",
       "\n",
       "    .dataframe tbody tr th {\n",
       "        vertical-align: top;\n",
       "    }\n",
       "\n",
       "    .dataframe thead th {\n",
       "        text-align: right;\n",
       "    }\n",
       "</style>\n",
       "<table border=\"1\" class=\"dataframe\">\n",
       "  <thead>\n",
       "    <tr style=\"text-align: right;\">\n",
       "      <th></th>\n",
       "      <th>ANO_ELEICAO</th>\n",
       "      <th>CD_TIPO_ELEICAO</th>\n",
       "      <th>NM_TIPO_ELEICAO</th>\n",
       "      <th>TP_ABRANGENCIA</th>\n",
       "      <th>SG_UF</th>\n",
       "      <th>SG_UE</th>\n",
       "      <th>NM_UE</th>\n",
       "      <th>CD_CARGO</th>\n",
       "      <th>DS_CARGO</th>\n",
       "      <th>CD_SITUACAO_CANDIDATURA</th>\n",
       "      <th>DS_SITUACAO_CANDIDATURA</th>\n",
       "      <th>CD_DETALHE_SITUACAO_CAND</th>\n",
       "      <th>DS_DETALHE_SITUACAO_CAND</th>\n",
       "      <th>TP_AGREMIACAO</th>\n",
       "      <th>NR_PARTIDO</th>\n",
       "      <th>SG_PARTIDO</th>\n",
       "      <th>NR_IDADE_DATA_POSSE</th>\n",
       "      <th>CD_GENERO</th>\n",
       "      <th>DS_GENERO</th>\n",
       "      <th>CD_GRAU_INSTRUCAO</th>\n",
       "      <th>DS_GRAU_INSTRUCAO</th>\n",
       "      <th>CD_ESTADO_CIVIL</th>\n",
       "      <th>DS_ESTADO_CIVIL</th>\n",
       "      <th>CD_COR_RACA</th>\n",
       "      <th>DS_COR_RACA</th>\n",
       "      <th>VR_DESPESA_MAX_CAMPANHA</th>\n",
       "    </tr>\n",
       "  </thead>\n",
       "  <tbody>\n",
       "    <tr>\n",
       "      <th>0</th>\n",
       "      <td>2020</td>\n",
       "      <td>2</td>\n",
       "      <td>ELEIÇÃO ORDINÁRIA</td>\n",
       "      <td>MUNICIPAL</td>\n",
       "      <td>PE</td>\n",
       "      <td>25313</td>\n",
       "      <td>RECIFE</td>\n",
       "      <td>13</td>\n",
       "      <td>VEREADOR</td>\n",
       "      <td>12</td>\n",
       "      <td>APTO</td>\n",
       "      <td>2</td>\n",
       "      <td>DEFERIDO</td>\n",
       "      <td>PARTIDO ISOLADO</td>\n",
       "      <td>17</td>\n",
       "      <td>PSL</td>\n",
       "      <td>73</td>\n",
       "      <td>2</td>\n",
       "      <td>MASCULINO</td>\n",
       "      <td>4</td>\n",
       "      <td>ENSINO FUNDAMENTAL COMPLETO</td>\n",
       "      <td>1</td>\n",
       "      <td>SOLTEIRO(A)</td>\n",
       "      <td>2</td>\n",
       "      <td>PRETA</td>\n",
       "      <td>1011149</td>\n",
       "    </tr>\n",
       "    <tr>\n",
       "      <th>1</th>\n",
       "      <td>2020</td>\n",
       "      <td>2</td>\n",
       "      <td>ELEIÇÃO ORDINÁRIA</td>\n",
       "      <td>MUNICIPAL</td>\n",
       "      <td>PE</td>\n",
       "      <td>25313</td>\n",
       "      <td>RECIFE</td>\n",
       "      <td>13</td>\n",
       "      <td>VEREADOR</td>\n",
       "      <td>12</td>\n",
       "      <td>APTO</td>\n",
       "      <td>2</td>\n",
       "      <td>DEFERIDO</td>\n",
       "      <td>PARTIDO ISOLADO</td>\n",
       "      <td>19</td>\n",
       "      <td>PODE</td>\n",
       "      <td>58</td>\n",
       "      <td>4</td>\n",
       "      <td>FEMININO</td>\n",
       "      <td>4</td>\n",
       "      <td>ENSINO FUNDAMENTAL COMPLETO</td>\n",
       "      <td>3</td>\n",
       "      <td>CASADO(A)</td>\n",
       "      <td>3</td>\n",
       "      <td>PARDA</td>\n",
       "      <td>1011149</td>\n",
       "    </tr>\n",
       "    <tr>\n",
       "      <th>2</th>\n",
       "      <td>2020</td>\n",
       "      <td>2</td>\n",
       "      <td>ELEIÇÃO ORDINÁRIA</td>\n",
       "      <td>MUNICIPAL</td>\n",
       "      <td>PE</td>\n",
       "      <td>25313</td>\n",
       "      <td>RECIFE</td>\n",
       "      <td>13</td>\n",
       "      <td>VEREADOR</td>\n",
       "      <td>12</td>\n",
       "      <td>APTO</td>\n",
       "      <td>2</td>\n",
       "      <td>DEFERIDO</td>\n",
       "      <td>PARTIDO ISOLADO</td>\n",
       "      <td>13</td>\n",
       "      <td>PT</td>\n",
       "      <td>35</td>\n",
       "      <td>2</td>\n",
       "      <td>MASCULINO</td>\n",
       "      <td>8</td>\n",
       "      <td>SUPERIOR COMPLETO</td>\n",
       "      <td>3</td>\n",
       "      <td>CASADO(A)</td>\n",
       "      <td>3</td>\n",
       "      <td>PARDA</td>\n",
       "      <td>1011149</td>\n",
       "    </tr>\n",
       "    <tr>\n",
       "      <th>3</th>\n",
       "      <td>2020</td>\n",
       "      <td>2</td>\n",
       "      <td>ELEIÇÃO ORDINÁRIA</td>\n",
       "      <td>MUNICIPAL</td>\n",
       "      <td>PE</td>\n",
       "      <td>25313</td>\n",
       "      <td>RECIFE</td>\n",
       "      <td>13</td>\n",
       "      <td>VEREADOR</td>\n",
       "      <td>12</td>\n",
       "      <td>APTO</td>\n",
       "      <td>2</td>\n",
       "      <td>DEFERIDO</td>\n",
       "      <td>PARTIDO ISOLADO</td>\n",
       "      <td>17</td>\n",
       "      <td>PSL</td>\n",
       "      <td>47</td>\n",
       "      <td>4</td>\n",
       "      <td>FEMININO</td>\n",
       "      <td>8</td>\n",
       "      <td>SUPERIOR COMPLETO</td>\n",
       "      <td>9</td>\n",
       "      <td>DIVORCIADO(A)</td>\n",
       "      <td>3</td>\n",
       "      <td>PARDA</td>\n",
       "      <td>1011149</td>\n",
       "    </tr>\n",
       "    <tr>\n",
       "      <th>4</th>\n",
       "      <td>2020</td>\n",
       "      <td>2</td>\n",
       "      <td>ELEIÇÃO ORDINÁRIA</td>\n",
       "      <td>MUNICIPAL</td>\n",
       "      <td>PE</td>\n",
       "      <td>25313</td>\n",
       "      <td>RECIFE</td>\n",
       "      <td>13</td>\n",
       "      <td>VEREADOR</td>\n",
       "      <td>12</td>\n",
       "      <td>APTO</td>\n",
       "      <td>2</td>\n",
       "      <td>DEFERIDO</td>\n",
       "      <td>PARTIDO ISOLADO</td>\n",
       "      <td>23</td>\n",
       "      <td>CIDADANIA</td>\n",
       "      <td>49</td>\n",
       "      <td>2</td>\n",
       "      <td>MASCULINO</td>\n",
       "      <td>3</td>\n",
       "      <td>ENSINO FUNDAMENTAL INCOMPLETO</td>\n",
       "      <td>3</td>\n",
       "      <td>CASADO(A)</td>\n",
       "      <td>2</td>\n",
       "      <td>PRETA</td>\n",
       "      <td>1011149</td>\n",
       "    </tr>\n",
       "  </tbody>\n",
       "</table>\n",
       "</div>"
      ],
      "text/plain": [
       "   ANO_ELEICAO  CD_TIPO_ELEICAO    NM_TIPO_ELEICAO TP_ABRANGENCIA SG_UF  \\\n",
       "0         2020                2  ELEIÇÃO ORDINÁRIA      MUNICIPAL    PE   \n",
       "1         2020                2  ELEIÇÃO ORDINÁRIA      MUNICIPAL    PE   \n",
       "2         2020                2  ELEIÇÃO ORDINÁRIA      MUNICIPAL    PE   \n",
       "3         2020                2  ELEIÇÃO ORDINÁRIA      MUNICIPAL    PE   \n",
       "4         2020                2  ELEIÇÃO ORDINÁRIA      MUNICIPAL    PE   \n",
       "\n",
       "   SG_UE   NM_UE  CD_CARGO  DS_CARGO  CD_SITUACAO_CANDIDATURA  \\\n",
       "0  25313  RECIFE        13  VEREADOR                       12   \n",
       "1  25313  RECIFE        13  VEREADOR                       12   \n",
       "2  25313  RECIFE        13  VEREADOR                       12   \n",
       "3  25313  RECIFE        13  VEREADOR                       12   \n",
       "4  25313  RECIFE        13  VEREADOR                       12   \n",
       "\n",
       "  DS_SITUACAO_CANDIDATURA  CD_DETALHE_SITUACAO_CAND DS_DETALHE_SITUACAO_CAND  \\\n",
       "0                    APTO                         2                 DEFERIDO   \n",
       "1                    APTO                         2                 DEFERIDO   \n",
       "2                    APTO                         2                 DEFERIDO   \n",
       "3                    APTO                         2                 DEFERIDO   \n",
       "4                    APTO                         2                 DEFERIDO   \n",
       "\n",
       "     TP_AGREMIACAO  NR_PARTIDO SG_PARTIDO  NR_IDADE_DATA_POSSE  CD_GENERO  \\\n",
       "0  PARTIDO ISOLADO          17        PSL                   73          2   \n",
       "1  PARTIDO ISOLADO          19       PODE                   58          4   \n",
       "2  PARTIDO ISOLADO          13         PT                   35          2   \n",
       "3  PARTIDO ISOLADO          17        PSL                   47          4   \n",
       "4  PARTIDO ISOLADO          23  CIDADANIA                   49          2   \n",
       "\n",
       "   DS_GENERO  CD_GRAU_INSTRUCAO              DS_GRAU_INSTRUCAO  \\\n",
       "0  MASCULINO                  4    ENSINO FUNDAMENTAL COMPLETO   \n",
       "1   FEMININO                  4    ENSINO FUNDAMENTAL COMPLETO   \n",
       "2  MASCULINO                  8              SUPERIOR COMPLETO   \n",
       "3   FEMININO                  8              SUPERIOR COMPLETO   \n",
       "4  MASCULINO                  3  ENSINO FUNDAMENTAL INCOMPLETO   \n",
       "\n",
       "   CD_ESTADO_CIVIL DS_ESTADO_CIVIL  CD_COR_RACA DS_COR_RACA  \\\n",
       "0                1     SOLTEIRO(A)            2       PRETA   \n",
       "1                3       CASADO(A)            3       PARDA   \n",
       "2                3       CASADO(A)            3       PARDA   \n",
       "3                9   DIVORCIADO(A)            3       PARDA   \n",
       "4                3       CASADO(A)            2       PRETA   \n",
       "\n",
       "   VR_DESPESA_MAX_CAMPANHA  \n",
       "0                  1011149  \n",
       "1                  1011149  \n",
       "2                  1011149  \n",
       "3                  1011149  \n",
       "4                  1011149  "
      ]
     },
     "execution_count": 5,
     "metadata": {},
     "output_type": "execute_result"
    }
   ],
   "source": [
    "df_candidaturas.head()"
   ]
  },
  {
   "cell_type": "markdown",
   "id": "9092476d-55a2-4bb0-85df-738753496d99",
   "metadata": {
    "tags": []
   },
   "source": [
    "## Distribuição estatística\n",
    "Para começar vamos observar graficamente a distribuição estatística dos dados da coluna NR_IDADE_DATA_POSSE que representa a idade que as pessoas candidatas teriam na data de sua posse. Essa curva é feita a partir da quantidade de vezes que cada idade aparece na coluna NR_IDADE_DATA_POSSE, ou seja, existem mais pessoas candidatas com 40 anos do que com 80."
   ]
  },
  {
   "cell_type": "code",
   "execution_count": 6,
   "id": "3cfa5bda-7f90-4bc3-a8bd-693b8f6ec2d9",
   "metadata": {},
   "outputs": [
    {
     "data": {
      "text/plain": [
       "<AxesSubplot:ylabel='Density'>"
      ]
     },
     "execution_count": 6,
     "metadata": {},
     "output_type": "execute_result"
    },
    {
     "data": {
      "image/png": "[encoded data removed]",
      "text/plain": [
       "<Figure size 432x288 with 1 Axes>"
      ]
     },
     "metadata": {
      "needs_background": "light"
     },
     "output_type": "display_data"
    }
   ],
   "source": [
    "df_candidaturas['NR_IDADE_DATA_POSSE'].plot.density()"
   ]
  },
  {
   "cell_type": "markdown",
   "id": "a67ebfa3-7cbd-4d3d-b095-d1d1a52718b5",
   "metadata": {},
   "source": [
    "Esse tipo de distribuição que o gráfico só tem 1 pico, chamamos de distribuição normal. "
   ]
  },
  {
   "cell_type": "markdown",
   "id": "debb5ed8-4da0-419f-ac9d-0d2f2fb907d6",
   "metadata": {},
   "source": [
    "## Medidas de tendência central\n",
    "As medidas de tendência central servem para determinar o valor central de uma distribuição e representar o centro de um conjunto de dados. As mais utilizadas são: média, mediana e moda.\n",
    "\n",
    "### Moda\n",
    "Valor que mais se repete em um conjunto de dados e também pode ser usada em dados qualitativos. Vamos descobrir a moda da coluna `NR_IDADE_DATA_POSSE`"
   ]
  },
  {
   "cell_type": "code",
   "execution_count": 7,
   "id": "176ef271-13e9-4e0a-a3c7-06f977696ba6",
   "metadata": {},
   "outputs": [
    {
     "data": {
      "text/plain": [
       "0    51\n",
       "Name: NR_IDADE_DATA_POSSE, dtype: int64"
      ]
     },
     "execution_count": 7,
     "metadata": {},
     "output_type": "execute_result"
    }
   ],
   "source": [
    "df_candidaturas['NR_IDADE_DATA_POSSE'].mode()"
   ]
  },
  {
   "cell_type": "markdown",
   "id": "fa47a6cc-aeaa-4331-b32b-b5596d753647",
   "metadata": {},
   "source": [
    "### Média\n",
    "Soma de todos os valores do conjunto de dados, dividido pela quantidade de valores do conjunto. Essa medida é muito afetada por valores discrepantes, então seu uso é recomendado em conjuntos de dados com valores mais uniformes. Vamos ver a média etária das candidaturas para vereadores no dia da posse."
   ]
  },
  {
   "cell_type": "code",
   "execution_count": 8,
   "id": "c3b76f4b-5086-41c5-99cc-ce3fceb849f7",
   "metadata": {},
   "outputs": [
    {
     "data": {
      "text/plain": [
       "11.340307428628996"
      ]
     },
     "execution_count": 8,
     "metadata": {},
     "output_type": "execute_result"
    }
   ],
   "source": [
    "df_candidaturas['NR_IDADE_DATA_POSSE'].std() "
   ]
  },
  {
   "cell_type": "markdown",
   "id": "059a64b2-e6c1-44de-9455-2713df51309e",
   "metadata": {},
   "source": [
    "### Média\n",
    "Soma de todos os valores do conjunto de dados, dividido pela quantidade de valores do conjunto. Essa medida é muito afetada por valores discrepantes, então seu uso é recomendado em conjuntos de dados com valores mais uniformes. Vamos descobrir a média etária das candidaturas para vereadores no dia da posse."
   ]
  },
  {
   "cell_type": "code",
   "execution_count": 9,
   "id": "aec6f8e6-5d14-4b01-af80-1c210a4ffd7f",
   "metadata": {},
   "outputs": [
    {
     "data": {
      "text/plain": [
       "47.956473214285715"
      ]
     },
     "execution_count": 9,
     "metadata": {},
     "output_type": "execute_result"
    }
   ],
   "source": [
    "df_candidaturas['NR_IDADE_DATA_POSSE'].mean()"
   ]
  },
  {
   "cell_type": "markdown",
   "id": "1aed28ff-9064-4cc4-9cbf-63fe64352cba",
   "metadata": {
    "tags": []
   },
   "source": [
    "### Mediana\n",
    "Valor que ocupa a posição central do conjunto de dados, após a ordenação dos valores em ordem crescente. Isso quer dizer que, após a ordenação dos valores, aquele localizado exatamente no meio dessa lista é a mediana. Isso significa que 50% dos valores são menores do que ela e 50% são maiores."
   ]
  },
  {
   "cell_type": "code",
   "execution_count": 10,
   "id": "87a9c69f-b175-48b7-b0d7-0d0167788143",
   "metadata": {},
   "outputs": [
    {
     "data": {
      "text/plain": [
       "48.0"
      ]
     },
     "execution_count": 10,
     "metadata": {},
     "output_type": "execute_result"
    }
   ],
   "source": [
    "df_candidaturas['NR_IDADE_DATA_POSSE'].median()"
   ]
  },
  {
   "cell_type": "markdown",
   "id": "07b01f67-13fb-4dc7-9ca4-98e6690dfd41",
   "metadata": {
    "tags": []
   },
   "source": [
    "## Medidas de dispersão\n",
    "As medidas de dispersão medem o grau de dispersão dos valores em uma distribuição, ou seja, pretendem avaliar quanto os dados diferem entre si. As mais usadas são: desvio padrão e variância.\n",
    "\n",
    "### Variância\n",
    "Indica quanto o conjunto de dados desvia da sua média, ou seja, quão distante cada valor do conjunto está da média. Quanto menor é a variância, mais próximo os valores estão da média."
   ]
  },
  {
   "cell_type": "code",
   "execution_count": 11,
   "id": "70f01fa4-2b52-4c9c-b976-f767fdbb74f1",
   "metadata": {},
   "outputs": [
    {
     "data": {
      "text/plain": [
       "128.60257257581802"
      ]
     },
     "execution_count": 11,
     "metadata": {},
     "output_type": "execute_result"
    }
   ],
   "source": [
    "df_candidaturas['NR_IDADE_DATA_POSSE'].var()"
   ]
  },
  {
   "cell_type": "markdown",
   "id": "877f7e7a-981a-4de4-8b3f-f133588cd738",
   "metadata": {
    "tags": []
   },
   "source": [
    "### Desvio padrão\n",
    "Indica o grau de dispersão de um conjunto de dados, ou seja, o quanto ele é uniforme. Quanto menor for o desvio padrão, mais homogêneos são os dados. Essa medida é a raiz quadrada da variância."
   ]
  },
  {
   "cell_type": "code",
   "execution_count": 12,
   "id": "d54265ab-d2ea-4083-9292-c0ccc637a3e6",
   "metadata": {},
   "outputs": [
    {
     "data": {
      "text/plain": [
       "11.340307428628996"
      ]
     },
     "execution_count": 12,
     "metadata": {},
     "output_type": "execute_result"
    }
   ],
   "source": [
    "df_candidaturas['NR_IDADE_DATA_POSSE'].std()"
   ]
  },
  {
   "cell_type": "markdown",
   "id": "0ece1f7f-db1d-4712-b1f6-71b668f9a73c",
   "metadata": {},
   "source": [
    "## Valores discrepantes (outliers)\n",
    "São valores numericamente distantes da maior parte do conjunto de dados, ou seja, valores extremos. Para determinar valores discrepantes, usamos como parâmetro a medida de intervalo interquartil, que determina a dispersão dos dados em torno da mediana.\n",
    "\n",
    "Como vimos anteriormente, a mediana é o valor que ocupa a posição central do conjunto de dados, após a ordenação dos valores em ordem crescente. Após essa ordenação também podemos determinar o primeiro e o terceiro quartil e , consequentemente, o intervalo entre eles que chamamos de intervalo interquartil, que é a diferença dos valores do 3. e 1. quartil."
   ]
  },
  {
   "cell_type": "code",
   "execution_count": 13,
   "id": "29df5837-c261-4d03-8e8e-1b51e689a980",
   "metadata": {},
   "outputs": [
    {
     "data": {
      "text/plain": [
       "40.0"
      ]
     },
     "execution_count": 13,
     "metadata": {},
     "output_type": "execute_result"
    }
   ],
   "source": [
    "primeiro_quartil = df_candidaturas['NR_IDADE_DATA_POSSE'].quantile(0.25)\n",
    "primeiro_quartil"
   ]
  },
  {
   "cell_type": "code",
   "execution_count": 14,
   "id": "5cf89a5f-e8c3-41b1-bb34-329ba3c17f92",
   "metadata": {},
   "outputs": [
    {
     "data": {
      "text/plain": [
       "56.0"
      ]
     },
     "execution_count": 14,
     "metadata": {},
     "output_type": "execute_result"
    }
   ],
   "source": [
    "terceiro_quartil = df_candidaturas['NR_IDADE_DATA_POSSE'].quantile(0.75)\n",
    "terceiro_quartil"
   ]
  },
  {
   "cell_type": "code",
   "execution_count": 15,
   "id": "00322444-3167-4390-b612-1898ed598621",
   "metadata": {},
   "outputs": [
    {
     "data": {
      "text/plain": [
       "16.0"
      ]
     },
     "execution_count": 15,
     "metadata": {},
     "output_type": "execute_result"
    }
   ],
   "source": [
    "intervalo_interquartil = terceiro_quartil - primeiro_quartil\n",
    "intervalo_interquartil"
   ]
  },
  {
   "cell_type": "markdown",
   "id": "9881e13e-0baa-46e8-963b-20113285e070",
   "metadata": {},
   "source": [
    "## Correlação\n",
    "Às vezes desejamos analisar um dado cujo comportamento está sendo influenciado de algum modo por outros. Esse fenômeno chamamos de correlação. Ela pode ser positiva, negativa ou nula.\n",
    "Para medir a correlação usamos o “coeficiente de correlação, um valor numérico que indica o grau e a direção da tendência de associação entre as variáveis” (Ciência de Dados na Educação Pública, 2021)\n",
    "\n",
    "## Coeficiente de Pearson\n",
    "Também é conhecido como correlação linear, é usado para verificar a correlação entre duas variáveis quantitativas. É expresso através de valores situados entre -1 e 1; quanto mais extremos os valores mais forte é a correlação entre as variáveis e quanto mais próximo de zero, mais fraca, sendo 0 a indicação de que não há correlação.\n",
    "\n",
    "Vamos verificar o coeficiente de correlação entre a variável NR_IDADE_DATA_POSSE e CD_ESTADO_CIVIL, tendo como hipótese que a idade tem uma correlação forte com o estado civil das pessoas candidatas. Só é possível realizar essa correlação porque cada estado civil está relacionado a um código numérico, conforme apresentado no dicionário de dados:\n",
    "\n",
    "1: SOLTEIRO(A), 3: CASADO(A), 5: VIÚVO(A), 7: SEPARADO(A) JUDICIALMENTE, 9: DIVORCIADO(A)"
   ]
  },
  {
   "cell_type": "code",
   "execution_count": 16,
   "id": "ecc082a5-5385-49ae-a9e9-3b2b839351bd",
   "metadata": {},
   "outputs": [
    {
     "data": {
      "text/html": [
       "<div>\n",
       "<style scoped>\n",
       "    .dataframe tbody tr th:only-of-type {\n",
       "        vertical-align: middle;\n",
       "    }\n",
       "\n",
       "    .dataframe tbody tr th {\n",
       "        vertical-align: top;\n",
       "    }\n",
       "\n",
       "    .dataframe thead th {\n",
       "        text-align: right;\n",
       "    }\n",
       "</style>\n",
       "<table border=\"1\" class=\"dataframe\">\n",
       "  <thead>\n",
       "    <tr style=\"text-align: right;\">\n",
       "      <th></th>\n",
       "      <th>NR_IDADE_DATA_POSSE</th>\n",
       "      <th>CD_ESTADO_CIVIL</th>\n",
       "    </tr>\n",
       "  </thead>\n",
       "  <tbody>\n",
       "    <tr>\n",
       "      <th>NR_IDADE_DATA_POSSE</th>\n",
       "      <td>1.000000</td>\n",
       "      <td>0.235442</td>\n",
       "    </tr>\n",
       "    <tr>\n",
       "      <th>CD_ESTADO_CIVIL</th>\n",
       "      <td>0.235442</td>\n",
       "      <td>1.000000</td>\n",
       "    </tr>\n",
       "  </tbody>\n",
       "</table>\n",
       "</div>"
      ],
      "text/plain": [
       "                     NR_IDADE_DATA_POSSE  CD_ESTADO_CIVIL\n",
       "NR_IDADE_DATA_POSSE             1.000000         0.235442\n",
       "CD_ESTADO_CIVIL                 0.235442         1.000000"
      ]
     },
     "execution_count": 16,
     "metadata": {},
     "output_type": "execute_result"
    }
   ],
   "source": [
    "df_candidaturas[['NR_IDADE_DATA_POSSE', 'CD_ESTADO_CIVIL']].corr(method='pearson')"
   ]
  },
  {
   "cell_type": "markdown",
   "id": "5cce3f2e-13de-4fe8-8636-6be933fbd35b",
   "metadata": {},
   "source": [
    "Observamos que a correlação linear é fraca usando o coeficiente de Pearson. Então, nossa hipótese não foi comprovada, não é possível dizer que existe correlação entre as variáveis analisadas.\n",
    "\n",
    "Espero que esse notebook tenha te ajudado a entender alguns conceitos básicos de estatística. Até mais!"
   ]
  }
 ],
 "metadata": {
  "kernelspec": {
   "display_name": "Python 3",
   "language": "python",
   "name": "python3"
  },
  "language_info": {
   "codemirror_mode": {
    "name": "ipython",
    "version": 3
   },
   "file_extension": ".py",
   "mimetype": "text/x-python",
   "name": "python",
   "nbconvert_exporter": "python",
   "pygments_lexer": "ipython3",
   "version": "3.8.10"
  }
 },
 "nbformat": 4,
 "nbformat_minor": 5
}
